{
  "nbformat": 4,
  "nbformat_minor": 0,
  "metadata": {
    "colab": {
      "provenance": [],
      "authorship_tag": "ABX9TyN0oHfTqu2sOuDJwuHJZ339",
      "include_colab_link": true
    },
    "kernelspec": {
      "name": "python3",
      "display_name": "Python 3"
    },
    "language_info": {
      "name": "python"
    }
  },
  "cells": [
    {
      "cell_type": "markdown",
      "metadata": {
        "id": "view-in-github",
        "colab_type": "text"
      },
      "source": [
        "<a href=\"https://colab.research.google.com/github/blendaguedes/ml_analysis/blob/main/Entropy_and_Information_gain.ipynb\" target=\"_parent\"><img src=\"https://colab.research.google.com/assets/colab-badge.svg\" alt=\"Open In Colab\"/></a>"
      ]
    },
    {
      "cell_type": "code",
      "execution_count": 52,
      "metadata": {
        "id": "5WCbKERk95EE"
      },
      "outputs": [],
      "source": [
        "import numpy as np\n",
        "import pandas as pd"
      ]
    },
    {
      "cell_type": "markdown",
      "source": [
        "# Defining the calculation of the **entropy**\n",
        "\n",
        "\n",
        "$$H(p_1) = -p_1 \\text{log}_2(p_1) - (1- p_1) \\text{log}_2(1- p_1)$$\n",
        "\n",
        "# And **information gain** is\n",
        "\n",
        "$$\\text{Information Gain} = H(p_1^\\text{node})- \\left(w^{\\text{left}}H\\left(p_1^\\text{left}\\right) + w^{\\text{right}}H\\left(p_1^\\text{right}\\right)\\right),$$\n",
        "\n",
        "\n",
        "> Being as small as the entropy is better\n",
        "\n",
        "> As big as the information gain is better"
      ],
      "metadata": {
        "id": "712eAxFc9sAg"
      }
    },
    {
      "cell_type": "code",
      "source": [
        "def entropy(p):\n",
        "    if p == 0 or p == 1:\n",
        "        return 0.\n",
        "    else:\n",
        "        return -p * np.log2(p) - (1 - p) * np.log2(1 - p)"
      ],
      "metadata": {
        "id": "QPqu7k2F9XdI"
      },
      "execution_count": 53,
      "outputs": []
    },
    {
      "cell_type": "code",
      "source": [
        "# Test\n",
        "entropy(0.5), entropy(0), entropy(1), entropy(0.99)"
      ],
      "metadata": {
        "colab": {
          "base_uri": "https://localhost:8080/"
        },
        "id": "IzjfVwjH-pY-",
        "outputId": "5bc7aadc-bd97-4a76-d5a0-f370f9113652"
      },
      "execution_count": 54,
      "outputs": [
        {
          "output_type": "execute_result",
          "data": {
            "text/plain": [
              "(1.0, 0.0, 0.0, 0.08079313589591124)"
            ]
          },
          "metadata": {},
          "execution_count": 54
        }
      ]
    },
    {
      "cell_type": "code",
      "source": [
        "# Generating a small dataset for example\n",
        "\n",
        "X_train = np.array([[1, 1, 1],\n",
        "[0, 0, 1],\n",
        "[0, 1, 0],\n",
        "[1, 0, 1],\n",
        "[1, 1, 1],\n",
        "[1, 1, 0],\n",
        "[0, 0, 0],\n",
        "[1, 1, 0],\n",
        "[0, 1, 0],\n",
        "[0, 1, 0]])\n",
        "\n",
        "y_train = np.array([1, 1, 0, 0, 1, 1, 0, 1, 0, 0])"
      ],
      "metadata": {
        "id": "n-lb7XPaARwt"
      },
      "execution_count": 55,
      "outputs": []
    },
    {
      "cell_type": "code",
      "source": [
        "def split_indices(X, index_feature):\n",
        "    \"\"\"Given a dataset and a index feature, return two lists for the two split nodes, the left node has the animals that have\n",
        "    that feature = 1 and the right node those that have the feature = 0\n",
        "    index feature = 0 => ear shape\n",
        "    index feature = 1 => face shape\n",
        "    index feature = 2 => whiskers\n",
        "    \"\"\"\n",
        "    left_indices = np.where(X[:, index_feature] == 1)[0].tolist()\n",
        "    right_indices = np.where(X[:, index_feature] != 1)[0].tolist()\n",
        "\n",
        "    return left_indices, right_indices"
      ],
      "metadata": {
        "id": "-lSC-lxv-rOY"
      },
      "execution_count": 56,
      "outputs": []
    },
    {
      "cell_type": "code",
      "source": [
        "def weighted_entropy(X,y,left_indices,right_indices):\n",
        "    \"\"\"\n",
        "    This function takes the splitted dataset, the indices we chose to split and returns the weighted entropy.\n",
        "    \"\"\"\n",
        "    w_left = len(left_indices)/len(X)\n",
        "    w_right = len(right_indices)/len(X)\n",
        "    p_left = sum(y[left_indices])/len(left_indices)\n",
        "    p_right = sum(y[right_indices])/len(right_indices)\n",
        "\n",
        "    weighted_entropy = w_left * entropy(p_left) + w_right * entropy(p_right)\n",
        "    return weighted_entropy"
      ],
      "metadata": {
        "id": "xDW-dVwkAoOB"
      },
      "execution_count": 57,
      "outputs": []
    },
    {
      "cell_type": "code",
      "source": [
        "left_indices, right_indices = split_indices(X_train, 0)"
      ],
      "metadata": {
        "id": "xAN20ILBAkiP"
      },
      "execution_count": 58,
      "outputs": []
    },
    {
      "cell_type": "code",
      "source": [
        "def information_gain(X, y, left_indices, right_indices):\n",
        "    \"\"\"\n",
        "    Here, X has the elements in the node and y is theirs respectives classes\n",
        "    \"\"\"\n",
        "    p_node = sum(y)/len(y)\n",
        "    h_node = entropy(p_node)\n",
        "    w_entropy = weighted_entropy(X,y,left_indices,right_indices)\n",
        "    return h_node - w_entropy"
      ],
      "metadata": {
        "id": "fVSr1-knB2tM"
      },
      "execution_count": 59,
      "outputs": []
    },
    {
      "cell_type": "code",
      "source": [
        "information_gain(X_train, y_train, left_indices, right_indices)"
      ],
      "metadata": {
        "colab": {
          "base_uri": "https://localhost:8080/"
        },
        "id": "-apf8Yu5QgPc",
        "outputId": "5aa35d6c-aa48-45e7-f6dd-cc69cfd9a05f"
      },
      "execution_count": 60,
      "outputs": [
        {
          "output_type": "execute_result",
          "data": {
            "text/plain": [
              "0.2780719051126377"
            ]
          },
          "metadata": {},
          "execution_count": 60
        }
      ]
    },
    {
      "cell_type": "code",
      "source": [
        "for i, feature_name in enumerate(['Ear Shape', 'Face Shape', 'Whiskers']):\n",
        "    left_indices, right_indices = split_indices(X_train, i)\n",
        "    i_gain = information_gain(X_train, y_train, left_indices, right_indices)\n",
        "    print(f\"Feature: {feature_name}, information gain if we split the root node using this feature: {i_gain:.2f}\")\n",
        ""
      ],
      "metadata": {
        "colab": {
          "base_uri": "https://localhost:8080/"
        },
        "id": "gczN6EKHC7T4",
        "outputId": "6a75e492-f75a-499c-a9ee-bae44596b67b"
      },
      "execution_count": 61,
      "outputs": [
        {
          "output_type": "stream",
          "name": "stdout",
          "text": [
            "Feature: Ear Shape, information gain if we split the root node using this feature: 0.28\n",
            "Feature: Face Shape, information gain if we split the root node using this feature: 0.03\n",
            "Feature: Whiskers, information gain if we split the root node using this feature: 0.12\n"
          ]
        }
      ]
    },
    {
      "cell_type": "code",
      "source": [
        "X_train_num = np.array([[1, 1, 1, 11.],\n",
        "[0, 0, 1, 12.],\n",
        "[0, 1, 0, 13.],\n",
        "[1, 0, 1, 9.],\n",
        "[1, 1, 1, 8.],\n",
        "[1, 1, 0, 11.],\n",
        "[0, 0, 0, 12.5],\n",
        "[1, 1, 0, 10.],\n",
        "[0, 1, 0, 14.],\n",
        "[0, 1, 0, 9.5]])"
      ],
      "metadata": {
        "id": "gtgQ1DSjcqt3"
      },
      "execution_count": 64,
      "outputs": []
    },
    {
      "cell_type": "code",
      "source": [
        "X_num = X_train_num[:, 3]\n",
        "X_num"
      ],
      "metadata": {
        "colab": {
          "base_uri": "https://localhost:8080/"
        },
        "id": "PlC0-w3Bfxvs",
        "outputId": "307259d2-c83b-44b9-e2d3-fcaa3e10fbb4"
      },
      "execution_count": 65,
      "outputs": [
        {
          "output_type": "execute_result",
          "data": {
            "text/plain": [
              "array([11. , 12. , 13. ,  9. ,  8. , 11. , 12.5, 10. , 14. ,  9.5])"
            ]
          },
          "metadata": {},
          "execution_count": 65
        }
      ]
    },
    {
      "cell_type": "code",
      "source": [
        "np.unique(np.sort(X_num))"
      ],
      "metadata": {
        "colab": {
          "base_uri": "https://localhost:8080/"
        },
        "id": "0sO3I7OzgkvR",
        "outputId": "95022d47-fb60-4919-f146-31c5d23fabe4"
      },
      "execution_count": 67,
      "outputs": [
        {
          "output_type": "execute_result",
          "data": {
            "text/plain": [
              "array([ 8. ,  9. ,  9.5, 10. , 11. , 12. , 12.5, 13. , 14. ])"
            ]
          },
          "metadata": {},
          "execution_count": 67
        }
      ]
    },
    {
      "cell_type": "code",
      "source": [
        "X_num[X_num>10].mean()"
      ],
      "metadata": {
        "colab": {
          "base_uri": "https://localhost:8080/"
        },
        "id": "8hDg2_oChDck",
        "outputId": "335fec5c-5b29-4b22-a356-25f956a910e1"
      },
      "execution_count": 75,
      "outputs": [
        {
          "output_type": "execute_result",
          "data": {
            "text/plain": [
              "12.25"
            ]
          },
          "metadata": {},
          "execution_count": 75
        }
      ]
    },
    {
      "cell_type": "markdown",
      "source": [
        "# Node **variance** is\n",
        "\n",
        "$$\\text{Information gain in variance} = Var^\\text{node}- (w^{\\text{left}}Var^{\\text{left}} + w^{\\text{right}}Var^{\\text{right}})$$"
      ],
      "metadata": {
        "id": "g6oieFBToqgo"
      }
    },
    {
      "cell_type": "code",
      "source": [
        "def choose_num_split_point(X, y):\n",
        "    root_var = np.var(X)\n",
        "    X_sort = np.unique(np.sort(X))\n",
        "\n",
        "    res_var = 10e100\n",
        "    split_point = 0\n",
        "    for v in X_sort:\n",
        "        right_indices = np.where(X<=v)[0]\n",
        "\n",
        "        if sum(y[right_indices]) == 0 or len(right_indices) == 0 :\n",
        "            continue\n",
        "\n",
        "        p_right = sum(y[right_indices])/len(right_indices)\n",
        "        right_var = X[right_indices].var()\n",
        "\n",
        "        left_indices = np.where(X>v)[0]\n",
        "        if sum(y[left_indices]) == 0 or len(left_indices) == 0 :\n",
        "            continue\n",
        "\n",
        "        p_left = sum(y[left_indices])/len(left_indices)\n",
        "        left_var = X[left_indices].var()\n",
        "\n",
        "        local_var = root_var - (p_right * right_var + p_left * left_var)\n",
        "\n",
        "        if local_var < res_var:\n",
        "            res_var = local_var\n",
        "            split_point = v\n",
        "\n",
        "    return split_point, res_var\n"
      ],
      "metadata": {
        "id": "E8tRjto5gODQ"
      },
      "execution_count": 88,
      "outputs": []
    },
    {
      "cell_type": "code",
      "source": [
        "split_point_num, var = choose_num_split_point(X_num, y_train)\n",
        "X_num[X_num<=split_point_num], X_num[X_num>split_point_num]"
      ],
      "metadata": {
        "colab": {
          "base_uri": "https://localhost:8080/"
        },
        "id": "cxFyCfDpkQPh",
        "outputId": "4c46ef64-6c32-4772-e402-0ffe730f9b86"
      },
      "execution_count": 89,
      "outputs": [
        {
          "output_type": "execute_result",
          "data": {
            "text/plain": [
              "(array([9., 8.]), array([11. , 12. , 13. , 11. , 12.5, 10. , 14. ,  9.5]))"
            ]
          },
          "metadata": {},
          "execution_count": 89
        }
      ]
    },
    {
      "cell_type": "code",
      "source": [
        "var"
      ],
      "metadata": {
        "colab": {
          "base_uri": "https://localhost:8080/"
        },
        "id": "pHMRRv7WkTe3",
        "outputId": "dfc00ec1-80de-4169-a979-b0584a931d56"
      },
      "execution_count": 90,
      "outputs": [
        {
          "output_type": "execute_result",
          "data": {
            "text/plain": [
              "2.1015625"
            ]
          },
          "metadata": {},
          "execution_count": 90
        }
      ]
    },
    {
      "cell_type": "code",
      "source": [],
      "metadata": {
        "id": "Pt9y2sPLmuN8"
      },
      "execution_count": null,
      "outputs": []
    }
  ]
}